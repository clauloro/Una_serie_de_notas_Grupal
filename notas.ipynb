{
  "cells": [
    {
      "attachments": {},
      "cell_type": "markdown",
      "metadata": {
        "id": "fQw3sCVjC5c2"
      },
      "source": [
        "# **Notas**"
      ]
    },
    {
      "attachments": {},
      "cell_type": "markdown",
      "metadata": {
        "id": "XTCD44erC2EZ"
      },
      "source": [
        "Librerías:"
      ]
    },
    {
      "cell_type": "code",
      "execution_count": 112,
      "metadata": {
        "id": "lBd3vxeGCkir"
      },
      "outputs": [],
      "source": [
        "import pandas as pd\n",
        "import numpy as np\n",
        "import matplotlib.pyplot as plt\n"
      ]
    },
    {
      "attachments": {},
      "cell_type": "markdown",
      "metadata": {
        "id": "HNK_xO7AEUjg"
      },
      "source": [
        "# **Dataset**"
      ]
    },
    {
      "cell_type": "code",
      "execution_count": 113,
      "metadata": {
        "colab": {
          "base_uri": "https://localhost:8080/",
          "height": 557
        },
        "id": "42Z8J_cbCzXL",
        "outputId": "cfead619-8914-4ffb-fc45-4a419b9f9b80"
      },
      "outputs": [
        {
          "data": {
            "text/html": [
              "<div>\n",
              "<style scoped>\n",
              "    .dataframe tbody tr th:only-of-type {\n",
              "        vertical-align: middle;\n",
              "    }\n",
              "\n",
              "    .dataframe tbody tr th {\n",
              "        vertical-align: top;\n",
              "    }\n",
              "\n",
              "    .dataframe thead th {\n",
              "        text-align: right;\n",
              "    }\n",
              "</style>\n",
              "<table border=\"1\" class=\"dataframe\">\n",
              "  <thead>\n",
              "    <tr style=\"text-align: right;\">\n",
              "      <th></th>\n",
              "      <th>NOTAS</th>\n",
              "      <th>NOTAS ORDENADAS</th>\n",
              "      <th>Unnamed: 2</th>\n",
              "      <th>Unnamed: 3</th>\n",
              "      <th>Unnamed: 4</th>\n",
              "      <th>Unnamed: 5</th>\n",
              "      <th>VALOR</th>\n",
              "      <th>MEDIA</th>\n",
              "      <th>DESVIACIÓN</th>\n",
              "      <th>DESVIACIÓN AL CUADRADO</th>\n",
              "    </tr>\n",
              "  </thead>\n",
              "  <tbody>\n",
              "    <tr>\n",
              "      <th>0</th>\n",
              "      <td>3.0</td>\n",
              "      <td>3.0</td>\n",
              "      <td>CANTIDAD DE OBSERVACIONES:</td>\n",
              "      <td>16.000</td>\n",
              "      <td>NaN</td>\n",
              "      <td>NaN</td>\n",
              "      <td>3.0</td>\n",
              "      <td>11.875</td>\n",
              "      <td>-8.875</td>\n",
              "      <td>78.765625</td>\n",
              "    </tr>\n",
              "    <tr>\n",
              "      <th>1</th>\n",
              "      <td>19.0</td>\n",
              "      <td>8.0</td>\n",
              "      <td>MIN.</td>\n",
              "      <td>3.000</td>\n",
              "      <td>NaN</td>\n",
              "      <td>NaN</td>\n",
              "      <td>19.0</td>\n",
              "      <td>11.875</td>\n",
              "      <td>7.125</td>\n",
              "      <td>50.765625</td>\n",
              "    </tr>\n",
              "    <tr>\n",
              "      <th>2</th>\n",
              "      <td>10.0</td>\n",
              "      <td>9.0</td>\n",
              "      <td>MAX.</td>\n",
              "      <td>19.000</td>\n",
              "      <td>NaN</td>\n",
              "      <td>NaN</td>\n",
              "      <td>10.0</td>\n",
              "      <td>11.875</td>\n",
              "      <td>-1.875</td>\n",
              "      <td>3.515625</td>\n",
              "    </tr>\n",
              "    <tr>\n",
              "      <th>3</th>\n",
              "      <td>15.0</td>\n",
              "      <td>10.0</td>\n",
              "      <td>RANGO</td>\n",
              "      <td>16.000</td>\n",
              "      <td>NaN</td>\n",
              "      <td>NaN</td>\n",
              "      <td>15.0</td>\n",
              "      <td>11.875</td>\n",
              "      <td>3.125</td>\n",
              "      <td>9.765625</td>\n",
              "    </tr>\n",
              "    <tr>\n",
              "      <th>4</th>\n",
              "      <td>14.0</td>\n",
              "      <td>11.0</td>\n",
              "      <td>SUMA DE LAS NOTAS</td>\n",
              "      <td>190.000</td>\n",
              "      <td>NaN</td>\n",
              "      <td>NaN</td>\n",
              "      <td>14.0</td>\n",
              "      <td>11.875</td>\n",
              "      <td>2.125</td>\n",
              "      <td>4.515625</td>\n",
              "    </tr>\n",
              "    <tr>\n",
              "      <th>5</th>\n",
              "      <td>12.0</td>\n",
              "      <td>11.0</td>\n",
              "      <td>MEDIA</td>\n",
              "      <td>11.875</td>\n",
              "      <td>NaN</td>\n",
              "      <td>NaN</td>\n",
              "      <td>12.0</td>\n",
              "      <td>11.875</td>\n",
              "      <td>0.125</td>\n",
              "      <td>0.015625</td>\n",
              "    </tr>\n",
              "    <tr>\n",
              "      <th>6</th>\n",
              "      <td>9.0</td>\n",
              "      <td>11.0</td>\n",
              "      <td>MEDIANA</td>\n",
              "      <td>12.000</td>\n",
              "      <td>NaN</td>\n",
              "      <td>NaN</td>\n",
              "      <td>9.0</td>\n",
              "      <td>11.875</td>\n",
              "      <td>-2.875</td>\n",
              "      <td>8.265625</td>\n",
              "    </tr>\n",
              "    <tr>\n",
              "      <th>7</th>\n",
              "      <td>8.0</td>\n",
              "      <td>12.0</td>\n",
              "      <td>MODA</td>\n",
              "      <td>11.000</td>\n",
              "      <td>NaN</td>\n",
              "      <td>NaN</td>\n",
              "      <td>8.0</td>\n",
              "      <td>11.875</td>\n",
              "      <td>-3.875</td>\n",
              "      <td>15.015625</td>\n",
              "    </tr>\n",
              "    <tr>\n",
              "      <th>8</th>\n",
              "      <td>11.0</td>\n",
              "      <td>12.0</td>\n",
              "      <td>VARIANZA</td>\n",
              "      <td>13.050</td>\n",
              "      <td>NaN</td>\n",
              "      <td>NaN</td>\n",
              "      <td>11.0</td>\n",
              "      <td>11.875</td>\n",
              "      <td>-0.875</td>\n",
              "      <td>0.765625</td>\n",
              "    </tr>\n",
              "    <tr>\n",
              "      <th>9</th>\n",
              "      <td>12.0</td>\n",
              "      <td>12.0</td>\n",
              "      <td>CUARTIL_1</td>\n",
              "      <td>10.750</td>\n",
              "      <td>NaN</td>\n",
              "      <td>NaN</td>\n",
              "      <td>12.0</td>\n",
              "      <td>11.875</td>\n",
              "      <td>0.125</td>\n",
              "      <td>0.015625</td>\n",
              "    </tr>\n",
              "    <tr>\n",
              "      <th>10</th>\n",
              "      <td>11.0</td>\n",
              "      <td>13.0</td>\n",
              "      <td>CUARTIL_2</td>\n",
              "      <td>12.000</td>\n",
              "      <td>NaN</td>\n",
              "      <td>NaN</td>\n",
              "      <td>11.0</td>\n",
              "      <td>11.875</td>\n",
              "      <td>-0.875</td>\n",
              "      <td>0.765625</td>\n",
              "    </tr>\n",
              "    <tr>\n",
              "      <th>11</th>\n",
              "      <td>12.0</td>\n",
              "      <td>14.0</td>\n",
              "      <td>CUARTIL_3</td>\n",
              "      <td>14.000</td>\n",
              "      <td>NaN</td>\n",
              "      <td>NaN</td>\n",
              "      <td>12.0</td>\n",
              "      <td>11.875</td>\n",
              "      <td>0.125</td>\n",
              "      <td>0.015625</td>\n",
              "    </tr>\n",
              "    <tr>\n",
              "      <th>12</th>\n",
              "      <td>13.0</td>\n",
              "      <td>14.0</td>\n",
              "      <td>INTER-CUARTIL</td>\n",
              "      <td>3.250</td>\n",
              "      <td>NaN</td>\n",
              "      <td>NaN</td>\n",
              "      <td>13.0</td>\n",
              "      <td>11.875</td>\n",
              "      <td>1.125</td>\n",
              "      <td>1.265625</td>\n",
              "    </tr>\n",
              "    <tr>\n",
              "      <th>13</th>\n",
              "      <td>11.0</td>\n",
              "      <td>15.0</td>\n",
              "      <td>BIGOTE_MIN</td>\n",
              "      <td>5.875</td>\n",
              "      <td>NaN</td>\n",
              "      <td>NaN</td>\n",
              "      <td>11.0</td>\n",
              "      <td>11.875</td>\n",
              "      <td>-0.875</td>\n",
              "      <td>0.765625</td>\n",
              "    </tr>\n",
              "    <tr>\n",
              "      <th>14</th>\n",
              "      <td>14.0</td>\n",
              "      <td>16.0</td>\n",
              "      <td>BIGOTE_MAX</td>\n",
              "      <td>18.875</td>\n",
              "      <td>NaN</td>\n",
              "      <td>NaN</td>\n",
              "      <td>14.0</td>\n",
              "      <td>11.875</td>\n",
              "      <td>2.125</td>\n",
              "      <td>4.515625</td>\n",
              "    </tr>\n",
              "    <tr>\n",
              "      <th>15</th>\n",
              "      <td>16.0</td>\n",
              "      <td>19.0</td>\n",
              "      <td>NaN</td>\n",
              "      <td>NaN</td>\n",
              "      <td>NaN</td>\n",
              "      <td>NaN</td>\n",
              "      <td>16.0</td>\n",
              "      <td>11.875</td>\n",
              "      <td>4.125</td>\n",
              "      <td>17.015625</td>\n",
              "    </tr>\n",
              "    <tr>\n",
              "      <th>16</th>\n",
              "      <td>NaN</td>\n",
              "      <td>NaN</td>\n",
              "      <td>NaN</td>\n",
              "      <td>NaN</td>\n",
              "      <td>NaN</td>\n",
              "      <td>NaN</td>\n",
              "      <td>NaN</td>\n",
              "      <td>NaN</td>\n",
              "      <td>NaN</td>\n",
              "      <td>NaN</td>\n",
              "    </tr>\n",
              "    <tr>\n",
              "      <th>17</th>\n",
              "      <td>NaN</td>\n",
              "      <td>NaN</td>\n",
              "      <td>NaN</td>\n",
              "      <td>NaN</td>\n",
              "      <td>NaN</td>\n",
              "      <td>NaN</td>\n",
              "      <td>NaN</td>\n",
              "      <td>SUMA:</td>\n",
              "      <td>NaN</td>\n",
              "      <td>195.750000</td>\n",
              "    </tr>\n",
              "    <tr>\n",
              "      <th>18</th>\n",
              "      <td>NaN</td>\n",
              "      <td>NaN</td>\n",
              "      <td>NaN</td>\n",
              "      <td>NaN</td>\n",
              "      <td>NaN</td>\n",
              "      <td>NaN</td>\n",
              "      <td>NaN</td>\n",
              "      <td>CANTIDAD DE VALORES:</td>\n",
              "      <td>NaN</td>\n",
              "      <td>16.000000</td>\n",
              "    </tr>\n",
              "    <tr>\n",
              "      <th>19</th>\n",
              "      <td>NaN</td>\n",
              "      <td>NaN</td>\n",
              "      <td>NaN</td>\n",
              "      <td>NaN</td>\n",
              "      <td>NaN</td>\n",
              "      <td>NaN</td>\n",
              "      <td>NaN</td>\n",
              "      <td>VARIANZA:</td>\n",
              "      <td>NaN</td>\n",
              "      <td>13.050000</td>\n",
              "    </tr>\n",
              "  </tbody>\n",
              "</table>\n",
              "</div>"
            ],
            "text/plain": [
              "    NOTAS  NOTAS ORDENADAS                  Unnamed: 2  Unnamed: 3   \n",
              "0     3.0              3.0  CANTIDAD DE OBSERVACIONES:      16.000  \\\n",
              "1    19.0              8.0                        MIN.       3.000   \n",
              "2    10.0              9.0                        MAX.      19.000   \n",
              "3    15.0             10.0                       RANGO      16.000   \n",
              "4    14.0             11.0           SUMA DE LAS NOTAS     190.000   \n",
              "5    12.0             11.0                       MEDIA      11.875   \n",
              "6     9.0             11.0                     MEDIANA      12.000   \n",
              "7     8.0             12.0                        MODA      11.000   \n",
              "8    11.0             12.0                    VARIANZA      13.050   \n",
              "9    12.0             12.0                   CUARTIL_1      10.750   \n",
              "10   11.0             13.0                   CUARTIL_2      12.000   \n",
              "11   12.0             14.0                   CUARTIL_3      14.000   \n",
              "12   13.0             14.0               INTER-CUARTIL       3.250   \n",
              "13   11.0             15.0                  BIGOTE_MIN       5.875   \n",
              "14   14.0             16.0                  BIGOTE_MAX      18.875   \n",
              "15   16.0             19.0                         NaN         NaN   \n",
              "16    NaN              NaN                         NaN         NaN   \n",
              "17    NaN              NaN                         NaN         NaN   \n",
              "18    NaN              NaN                         NaN         NaN   \n",
              "19    NaN              NaN                         NaN         NaN   \n",
              "\n",
              "    Unnamed: 4  Unnamed: 5  VALOR                 MEDIA  DESVIACIÓN   \n",
              "0          NaN         NaN    3.0                11.875      -8.875  \\\n",
              "1          NaN         NaN   19.0                11.875       7.125   \n",
              "2          NaN         NaN   10.0                11.875      -1.875   \n",
              "3          NaN         NaN   15.0                11.875       3.125   \n",
              "4          NaN         NaN   14.0                11.875       2.125   \n",
              "5          NaN         NaN   12.0                11.875       0.125   \n",
              "6          NaN         NaN    9.0                11.875      -2.875   \n",
              "7          NaN         NaN    8.0                11.875      -3.875   \n",
              "8          NaN         NaN   11.0                11.875      -0.875   \n",
              "9          NaN         NaN   12.0                11.875       0.125   \n",
              "10         NaN         NaN   11.0                11.875      -0.875   \n",
              "11         NaN         NaN   12.0                11.875       0.125   \n",
              "12         NaN         NaN   13.0                11.875       1.125   \n",
              "13         NaN         NaN   11.0                11.875      -0.875   \n",
              "14         NaN         NaN   14.0                11.875       2.125   \n",
              "15         NaN         NaN   16.0                11.875       4.125   \n",
              "16         NaN         NaN    NaN                   NaN         NaN   \n",
              "17         NaN         NaN    NaN                 SUMA:         NaN   \n",
              "18         NaN         NaN    NaN  CANTIDAD DE VALORES:         NaN   \n",
              "19         NaN         NaN    NaN             VARIANZA:         NaN   \n",
              "\n",
              "    DESVIACIÓN AL CUADRADO  \n",
              "0                78.765625  \n",
              "1                50.765625  \n",
              "2                 3.515625  \n",
              "3                 9.765625  \n",
              "4                 4.515625  \n",
              "5                 0.015625  \n",
              "6                 8.265625  \n",
              "7                15.015625  \n",
              "8                 0.765625  \n",
              "9                 0.015625  \n",
              "10                0.765625  \n",
              "11                0.015625  \n",
              "12                1.265625  \n",
              "13                0.765625  \n",
              "14                4.515625  \n",
              "15               17.015625  \n",
              "16                     NaN  \n",
              "17              195.750000  \n",
              "18               16.000000  \n",
              "19               13.050000  "
            ]
          },
          "execution_count": 113,
          "metadata": {},
          "output_type": "execute_result"
        }
      ],
      "source": [
        "df_notas = pd.read_excel('./Notas_data/Notas.xlsx')\n",
        "df_notas\n"
      ]
    },
    {
      "cell_type": "code",
      "execution_count": 114,
      "metadata": {},
      "outputs": [],
      "source": [
        "columnas_drop = ['NOTAS ORDENADAS', 'Unnamed: 2', 'Unnamed: 3', 'Unnamed: 4', 'Unnamed: 5', 'VALOR', 'MEDIA', 'DESVIACIÓN', 'DESVIACIÓN AL CUADRADO']\n",
        "#  Limpiamos el dataset, por ahora la columna que nos interesa es 'NOTAS'\n",
        "df_notas = df_notas.drop(columnas_drop, axis=1)\n",
        "#  Limpiamos los valores nulos de la columna 'NOTAS'\n",
        "df_notas2 = df_notas.dropna()"
      ]
    },
    {
      "cell_type": "code",
      "execution_count": 115,
      "metadata": {},
      "outputs": [
        {
          "data": {
            "text/html": [
              "<div>\n",
              "<style scoped>\n",
              "    .dataframe tbody tr th:only-of-type {\n",
              "        vertical-align: middle;\n",
              "    }\n",
              "\n",
              "    .dataframe tbody tr th {\n",
              "        vertical-align: top;\n",
              "    }\n",
              "\n",
              "    .dataframe thead th {\n",
              "        text-align: right;\n",
              "    }\n",
              "</style>\n",
              "<table border=\"1\" class=\"dataframe\">\n",
              "  <thead>\n",
              "    <tr style=\"text-align: right;\">\n",
              "      <th></th>\n",
              "      <th>NOTAS</th>\n",
              "    </tr>\n",
              "  </thead>\n",
              "  <tbody>\n",
              "    <tr>\n",
              "      <th>0</th>\n",
              "      <td>3.0</td>\n",
              "    </tr>\n",
              "    <tr>\n",
              "      <th>1</th>\n",
              "      <td>19.0</td>\n",
              "    </tr>\n",
              "    <tr>\n",
              "      <th>2</th>\n",
              "      <td>10.0</td>\n",
              "    </tr>\n",
              "    <tr>\n",
              "      <th>3</th>\n",
              "      <td>15.0</td>\n",
              "    </tr>\n",
              "    <tr>\n",
              "      <th>4</th>\n",
              "      <td>14.0</td>\n",
              "    </tr>\n",
              "    <tr>\n",
              "      <th>5</th>\n",
              "      <td>12.0</td>\n",
              "    </tr>\n",
              "    <tr>\n",
              "      <th>6</th>\n",
              "      <td>9.0</td>\n",
              "    </tr>\n",
              "    <tr>\n",
              "      <th>7</th>\n",
              "      <td>8.0</td>\n",
              "    </tr>\n",
              "    <tr>\n",
              "      <th>8</th>\n",
              "      <td>11.0</td>\n",
              "    </tr>\n",
              "    <tr>\n",
              "      <th>9</th>\n",
              "      <td>12.0</td>\n",
              "    </tr>\n",
              "    <tr>\n",
              "      <th>10</th>\n",
              "      <td>11.0</td>\n",
              "    </tr>\n",
              "    <tr>\n",
              "      <th>11</th>\n",
              "      <td>12.0</td>\n",
              "    </tr>\n",
              "    <tr>\n",
              "      <th>12</th>\n",
              "      <td>13.0</td>\n",
              "    </tr>\n",
              "    <tr>\n",
              "      <th>13</th>\n",
              "      <td>11.0</td>\n",
              "    </tr>\n",
              "    <tr>\n",
              "      <th>14</th>\n",
              "      <td>14.0</td>\n",
              "    </tr>\n",
              "    <tr>\n",
              "      <th>15</th>\n",
              "      <td>16.0</td>\n",
              "    </tr>\n",
              "  </tbody>\n",
              "</table>\n",
              "</div>"
            ],
            "text/plain": [
              "    NOTAS\n",
              "0     3.0\n",
              "1    19.0\n",
              "2    10.0\n",
              "3    15.0\n",
              "4    14.0\n",
              "5    12.0\n",
              "6     9.0\n",
              "7     8.0\n",
              "8    11.0\n",
              "9    12.0\n",
              "10   11.0\n",
              "11   12.0\n",
              "12   13.0\n",
              "13   11.0\n",
              "14   14.0\n",
              "15   16.0"
            ]
          },
          "execution_count": 115,
          "metadata": {},
          "output_type": "execute_result"
        }
      ],
      "source": [
        "df_notas2"
      ]
    },
    {
      "attachments": {},
      "cell_type": "markdown",
      "metadata": {
        "id": "mD9DxANIENd3"
      },
      "source": [
        "# **Cálculo de medidas para centralizar los datos**"
      ]
    },
    {
      "attachments": {},
      "cell_type": "markdown",
      "metadata": {
        "id": "PS3wWbf4GX3q"
      },
      "source": [
        "Media , moda y mediana:"
      ]
    },
    {
      "cell_type": "code",
      "execution_count": 116,
      "metadata": {
        "colab": {
          "base_uri": "https://localhost:8080/"
        },
        "id": "T_A8BhliEBHf",
        "outputId": "8d8d0dea-8e39-4bb3-d3de-4405292da4d4"
      },
      "outputs": [
        {
          "name": "stdout",
          "output_type": "stream",
          "text": [
            "Media: 11.875\n",
            "Mediana: 12.0\n",
            "Moda: 11.0\n"
          ]
        }
      ],
      "source": [
        "media=df_notas[\"NOTAS\"].mean()\n",
        "mediana=df_notas[\"NOTAS\"].median()\n",
        "moda = df_notas[\"NOTAS\"].mode().values[0]\n",
        "\n",
        "print(f\"Media: {media}\")\n",
        "print(f\"Mediana: {mediana}\")\n",
        "print(f\"Moda: {moda}\")\n",
        "    \n"
      ]
    },
    {
      "attachments": {},
      "cell_type": "markdown",
      "metadata": {
        "id": "DByjOwijLnNy"
      },
      "source": [
        "Varianza y desviación típica:"
      ]
    },
    {
      "cell_type": "code",
      "execution_count": 117,
      "metadata": {
        "colab": {
          "base_uri": "https://localhost:8080/",
          "height": 557
        },
        "id": "wDu4uVESLl1S",
        "outputId": "6a5acfae-f1a9-456c-d6ba-bf93c6c22306"
      },
      "outputs": [
        {
          "data": {
            "text/html": [
              "<div>\n",
              "<style scoped>\n",
              "    .dataframe tbody tr th:only-of-type {\n",
              "        vertical-align: middle;\n",
              "    }\n",
              "\n",
              "    .dataframe tbody tr th {\n",
              "        vertical-align: top;\n",
              "    }\n",
              "\n",
              "    .dataframe thead th {\n",
              "        text-align: right;\n",
              "    }\n",
              "</style>\n",
              "<table border=\"1\" class=\"dataframe\">\n",
              "  <thead>\n",
              "    <tr style=\"text-align: right;\">\n",
              "      <th></th>\n",
              "      <th>Notas</th>\n",
              "      <th>Notas - Media</th>\n",
              "      <th>Notas - Media^2</th>\n",
              "    </tr>\n",
              "  </thead>\n",
              "  <tbody>\n",
              "    <tr>\n",
              "      <th>0</th>\n",
              "      <td>3.0</td>\n",
              "      <td>-8.875</td>\n",
              "      <td>78.765625</td>\n",
              "    </tr>\n",
              "    <tr>\n",
              "      <th>1</th>\n",
              "      <td>19.0</td>\n",
              "      <td>7.125</td>\n",
              "      <td>50.765625</td>\n",
              "    </tr>\n",
              "    <tr>\n",
              "      <th>2</th>\n",
              "      <td>10.0</td>\n",
              "      <td>-1.875</td>\n",
              "      <td>3.515625</td>\n",
              "    </tr>\n",
              "    <tr>\n",
              "      <th>3</th>\n",
              "      <td>15.0</td>\n",
              "      <td>3.125</td>\n",
              "      <td>9.765625</td>\n",
              "    </tr>\n",
              "    <tr>\n",
              "      <th>4</th>\n",
              "      <td>14.0</td>\n",
              "      <td>2.125</td>\n",
              "      <td>4.515625</td>\n",
              "    </tr>\n",
              "    <tr>\n",
              "      <th>5</th>\n",
              "      <td>12.0</td>\n",
              "      <td>0.125</td>\n",
              "      <td>0.015625</td>\n",
              "    </tr>\n",
              "    <tr>\n",
              "      <th>6</th>\n",
              "      <td>9.0</td>\n",
              "      <td>-2.875</td>\n",
              "      <td>8.265625</td>\n",
              "    </tr>\n",
              "    <tr>\n",
              "      <th>7</th>\n",
              "      <td>8.0</td>\n",
              "      <td>-3.875</td>\n",
              "      <td>15.015625</td>\n",
              "    </tr>\n",
              "    <tr>\n",
              "      <th>8</th>\n",
              "      <td>11.0</td>\n",
              "      <td>-0.875</td>\n",
              "      <td>0.765625</td>\n",
              "    </tr>\n",
              "    <tr>\n",
              "      <th>9</th>\n",
              "      <td>12.0</td>\n",
              "      <td>0.125</td>\n",
              "      <td>0.015625</td>\n",
              "    </tr>\n",
              "    <tr>\n",
              "      <th>10</th>\n",
              "      <td>11.0</td>\n",
              "      <td>-0.875</td>\n",
              "      <td>0.765625</td>\n",
              "    </tr>\n",
              "    <tr>\n",
              "      <th>11</th>\n",
              "      <td>12.0</td>\n",
              "      <td>0.125</td>\n",
              "      <td>0.015625</td>\n",
              "    </tr>\n",
              "    <tr>\n",
              "      <th>12</th>\n",
              "      <td>13.0</td>\n",
              "      <td>1.125</td>\n",
              "      <td>1.265625</td>\n",
              "    </tr>\n",
              "    <tr>\n",
              "      <th>13</th>\n",
              "      <td>11.0</td>\n",
              "      <td>-0.875</td>\n",
              "      <td>0.765625</td>\n",
              "    </tr>\n",
              "    <tr>\n",
              "      <th>14</th>\n",
              "      <td>14.0</td>\n",
              "      <td>2.125</td>\n",
              "      <td>4.515625</td>\n",
              "    </tr>\n",
              "    <tr>\n",
              "      <th>15</th>\n",
              "      <td>16.0</td>\n",
              "      <td>4.125</td>\n",
              "      <td>17.015625</td>\n",
              "    </tr>\n",
              "  </tbody>\n",
              "</table>\n",
              "</div>"
            ],
            "text/plain": [
              "    Notas  Notas - Media  Notas - Media^2\n",
              "0     3.0         -8.875        78.765625\n",
              "1    19.0          7.125        50.765625\n",
              "2    10.0         -1.875         3.515625\n",
              "3    15.0          3.125         9.765625\n",
              "4    14.0          2.125         4.515625\n",
              "5    12.0          0.125         0.015625\n",
              "6     9.0         -2.875         8.265625\n",
              "7     8.0         -3.875        15.015625\n",
              "8    11.0         -0.875         0.765625\n",
              "9    12.0          0.125         0.015625\n",
              "10   11.0         -0.875         0.765625\n",
              "11   12.0          0.125         0.015625\n",
              "12   13.0          1.125         1.265625\n",
              "13   11.0         -0.875         0.765625\n",
              "14   14.0          2.125         4.515625\n",
              "15   16.0          4.125        17.015625"
            ]
          },
          "execution_count": 117,
          "metadata": {},
          "output_type": "execute_result"
        }
      ],
      "source": [
        "# para ello vamos a crear un nuevo dataset con dos columnas más \n",
        "\n",
        "notas_menos_media = [nota - media for nota in df_notas2['NOTAS']]\n",
        "notas_menos_media_cuadrado = [(nota - media)**2 for nota in df_notas2['NOTAS']]\n",
        "\n",
        "df_notas_3 = pd.DataFrame({'Notas': df_notas2['NOTAS'], 'Notas - Media': notas_menos_media, 'Notas - Media^2': notas_menos_media_cuadrado})\n",
        "\n",
        "df_notas_3\n"
      ]
    },
    {
      "cell_type": "code",
      "execution_count": 118,
      "metadata": {
        "colab": {
          "base_uri": "https://localhost:8080/"
        },
        "id": "uyXw1VjHNpzF",
        "outputId": "fbe0d114-5ed0-45b7-f265-64e2717c2a47"
      },
      "outputs": [
        {
          "name": "stdout",
          "output_type": "stream",
          "text": [
            "Varianza :12.234375\n",
            "Desviación tipica :3.4977671449083054\n"
          ]
        }
      ],
      "source": [
        "#calulamos la varianza\n",
        "varianza = np.sum(df_notas_3[\"Notas - Media^2\"])/len(df_notas2['NOTAS'])\n",
        "print(\"Varianza :\" + str(varianza))\n",
        "desviacion_tip=np.sqrt(varianza)\n",
        "print(\"Desviación tipica :\" +str(desviacion_tip))\n"
      ]
    },
    {
      "attachments": {},
      "cell_type": "markdown",
      "metadata": {
        "id": "nUfC1gTMGbdl"
      },
      "source": [
        "Cuartiles:"
      ]
    },
    {
      "cell_type": "code",
      "execution_count": 119,
      "metadata": {
        "colab": {
          "base_uri": "https://localhost:8080/"
        },
        "id": "CTi1xnL9GUXd",
        "outputId": "24144cf1-4318-4107-c827-be5e24a65fce"
      },
      "outputs": [
        {
          "name": "stdout",
          "output_type": "stream",
          "text": [
            "Q1: 10.75\n",
            "Q2 (Mediana): 12.0\n",
            "Q3: 14.0\n"
          ]
        }
      ],
      "source": [
        "Q1=df_notas2[\"NOTAS\"].quantile(0.25)\n",
        "Q2=df_notas2[\"NOTAS\"].quantile(0.5)\n",
        "Q3 = df_notas2['NOTAS'].quantile(0.75)\n",
        "Rango_inter=Q1-Q2\n",
        "print(f\"Q1: {Q1}\")\n",
        "print(f\"Q2 (Mediana): {Q2}\")\n",
        "print(f\"Q3: {Q3}\")"
      ]
    },
    {
      "attachments": {},
      "cell_type": "markdown",
      "metadata": {
        "id": "n2CZSUD4HDNr"
      },
      "source": [
        "Box plot:"
      ]
    },
    {
      "cell_type": "code",
      "execution_count": 120,
      "metadata": {
        "colab": {
          "base_uri": "https://localhost:8080/",
          "height": 473
        },
        "id": "3HEwMscIGiGX",
        "outputId": "c490cc18-97fe-467a-b874-d57aa949fa24"
      },
      "outputs": [
        {
          "data": {
            "image/png": "[encoded data removed]",
            "text/plain": [
              "<Figure size 640x480 with 1 Axes>"
            ]
          },
          "metadata": {},
          "output_type": "display_data"
        }
      ],
      "source": [
        "#diagrama boxplot\n",
        "fig, ax = plt.subplots()\n",
        "\n",
        "ax.boxplot(df_notas2['NOTAS'])\n",
        "\n",
        "ax.set_title('Box plot')\n",
        "ax.set_ylabel('Notas')\n",
        "\n",
        "\n",
        "# Agregar rayas para la mediana, el primer y tercer cuartil, y los valores mínimo y máximo\n",
        "mediana = ax.lines[4]\n",
        "cuartil1 = ax.lines[1]\n",
        "cuartil3 = ax.lines[2]\n",
        "minimo = ax.lines[0]\n",
        "maximo = ax.lines[3]\n",
        "\n",
        "mediana.set_color('black')\n",
        "cuartil1.set_color('black')\n",
        "cuartil3.set_color('black')\n",
        "\n",
        "\n",
        "minimo.set_color('green')\n",
        "minimo.set_linestyle('-')\n",
        "maximo.set_color('black')\n",
        "maximo.set_linestyle('-')\n",
        "\n",
        "plt.show()\n",
        "\n",
        "plt.show()"
      ]
    },
    {
      "attachments": {},
      "cell_type": "markdown",
      "metadata": {
        "id": "u0FYOugiKEce"
      },
      "source": [
        "En el box plot podemos indetificar tanto los cuartiles como los datos más dispersos:"
      ]
    },
    {
      "cell_type": "code",
      "execution_count": 121,
      "metadata": {
        "colab": {
          "base_uri": "https://localhost:8080/"
        },
        "id": "DLvB4LnTKJZb",
        "outputId": "5214a3d2-72e6-4469-8746-db6e4525782b"
      },
      "outputs": [
        {
          "name": "stdout",
          "output_type": "stream",
          "text": [
            "El dato min:\n",
            "3.0\n",
            "El dato máx\n",
            "19.0\n"
          ]
        }
      ],
      "source": [
        "#dato más dispersos que podemos observar en el gráfico\n",
        "min=np.min(df_notas2['NOTAS'])\n",
        "maz=np.max(df_notas2['NOTAS'])\n",
        "print(\"El dato min:\")\n",
        "print(min)\n",
        "print(\"El dato máx\")\n",
        "print(maz)"
      ]
    },
    {
      "attachments": {},
      "cell_type": "markdown",
      "metadata": {
        "id": "f3lDsiSxJREC"
      },
      "source": [
        "# **Histogramas**"
      ]
    },
    {
      "attachments": {},
      "cell_type": "markdown",
      "metadata": {},
      "source": [
        "### Diagrama de barras:"
      ]
    },
    {
      "cell_type": "code",
      "execution_count": 127,
      "metadata": {},
      "outputs": [
        {
          "data": {
            "image/png": "[encoded data removed]",
            "text/plain": [
              "<Figure size 640x480 with 1 Axes>"
            ]
          },
          "metadata": {},
          "output_type": "display_data"
        }
      ],
      "source": [
        "#  Comenzamos a dibujar el histograma de las notas\n",
        "plt.hist(df_notas2['NOTAS'], bins=10, edgecolor='black')\n",
        "plt.xlabel('Notas')\n",
        "plt.ylabel('Frecuencia')\n",
        "plt.title('Distribución de las notas')\n",
        "plt.show()\n"
      ]
    },
    {
      "attachments": {},
      "cell_type": "markdown",
      "metadata": {},
      "source": [
        "### Gráfico de lineas:"
      ]
    },
    {
      "cell_type": "code",
      "execution_count": 128,
      "metadata": {},
      "outputs": [
        {
          "data": {
            "image/png": "[encoded data removed]",
            "text/plain": [
              "<Figure size 640x480 with 1 Axes>"
            ]
          },
          "metadata": {},
          "output_type": "display_data"
        }
      ],
      "source": [
        "# Hacemos un grafido de linea de las notas\n",
        "fig, ax = plt.subplots()\n",
        "\n",
        "ax.plot(df_notas2['NOTAS'])\n",
        "\n",
        "ax.set_title('Gráfico de línea')\n",
        "ax.set_xlabel('Notas')\n",
        "ax.set_ylabel('Frecuencia')\n",
        "plt.show()"
      ]
    },
    {
      "cell_type": "code",
      "execution_count": null,
      "metadata": {},
      "outputs": [],
      "source": []
    }
  ],
  "metadata": {
    "colab": {
      "provenance": [],
      "toc_visible": true
    },
    "kernelspec": {
      "display_name": "Python 3",
      "name": "python3"
    },
    "language_info": {
      "codemirror_mode": {
        "name": "ipython",
        "version": 3
      },
      "file_extension": ".py",
      "mimetype": "text/x-python",
      "name": "python",
      "nbconvert_exporter": "python",
      "pygments_lexer": "ipython3",
      "version": "3.10.11"
    }
  },
  "nbformat": 4,
  "nbformat_minor": 0
}
