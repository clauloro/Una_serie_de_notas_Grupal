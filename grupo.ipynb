{
 "cells": [
  {
   "cell_type": "code",
   "execution_count": 6,
   "metadata": {},
   "outputs": [],
   "source": [
    "import pandas as pd\n",
    "import numpy as np\n",
    "import JMPEstadisticas as jmp"
   ]
  },
  {
   "cell_type": "code",
   "execution_count": 7,
   "metadata": {},
   "outputs": [],
   "source": [
    "notas = [3, 19, 10, 15, 14, 12, 9, 8, 11, 12, 11, 12, 13, 11, 14, 16]\n",
    "df_notas = pd.DataFrame({'Notas': notas})"
   ]
  },
  {
   "cell_type": "code",
   "execution_count": 8,
   "metadata": {},
   "outputs": [
    {
     "name": "stdout",
     "output_type": "stream",
     "text": [
      "Media: 11.875\n",
      "Mediana: 12.0\n",
      "Moda: 11\n"
     ]
    }
   ],
   "source": [
    "media = df_notas['Notas'].mean()\n",
    "mediana = df_notas['Notas'].median()\n",
    "moda = df_notas['Notas'].mode().values[0]\n",
    "\n",
    "print(f\"Media: {media}\")\n",
    "print(f\"Mediana: {mediana}\")\n",
    "print(f\"Moda: {moda}\")\n"
   ]
  },
  {
   "cell_type": "code",
   "execution_count": 9,
   "metadata": {},
   "outputs": [
    {
     "name": "stdout",
     "output_type": "stream",
     "text": [
      "Rango: 16\n",
      "Varianza: 13.05\n",
      "Desviación estándar: 3.6124783736376886\n"
     ]
    }
   ],
   "source": [
    "rango = df_notas['Notas'].max() - df_notas['Notas'].min()\n",
    "varianza = df_notas['Notas'].var()\n",
    "desviacion_estandar = df_notas['Notas'].std()\n",
    "\n",
    "print(f\"Rango: {rango}\")\n",
    "print(f\"Varianza: {varianza}\")\n",
    "print(f\"Desviación estándar: {desviacion_estandar}\")"
   ]
  },
  {
   "cell_type": "code",
   "execution_count": 10,
   "metadata": {},
   "outputs": [
    {
     "name": "stdout",
     "output_type": "stream",
     "text": [
      "Q1: 10.75\n",
      "Q2 (Mediana): 12.0\n",
      "Q3: 14.0\n",
      "IQR: 3.25\n",
      "Bigote inferior: 5.875\n",
      "Bigote superior: 18.875\n",
      "Datos aberrantes:\n",
      "   Notas\n",
      "0      3\n",
      "1     19\n"
     ]
    }
   ],
   "source": [
    "Q1 = df_notas['Notas'].quantile(0.25)\n",
    "Q2 = df_notas['Notas'].quantile(0.5)\n",
    "Q3 = df_notas['Notas'].quantile(0.75)\n",
    "IQR = Q3 - Q1\n",
    "\n",
    "bigote_inferior = Q1 - 1.5 * IQR\n",
    "bigote_superior = Q3 + 1.5 * IQR\n",
    "\n",
    "print(f\"Q1: {Q1}\")\n",
    "print(f\"Q2 (Mediana): {Q2}\")\n",
    "print(f\"Q3: {Q3}\")\n",
    "print(f\"IQR: {IQR}\")\n",
    "print(f\"Bigote inferior: {bigote_inferior}\")\n",
    "print(f\"Bigote superior: {bigote_superior}\")\n",
    "\n",
    "datos_aberrantes = df_notas[(df_notas['Notas'] < bigote_inferior) | (df_notas['Notas'] > bigote_superior)]\n",
    "print(\"Datos aberrantes:\")\n",
    "print(datos_aberrantes)\n"
   ]
  }
 ],
 "metadata": {
  "kernelspec": {
   "display_name": "Python 3",
   "language": "python",
   "name": "python3"
  },
  "language_info": {
   "codemirror_mode": {
    "name": "ipython",
    "version": 3
   },
   "file_extension": ".py",
   "mimetype": "text/x-python",
   "name": "python",
   "nbconvert_exporter": "python",
   "pygments_lexer": "ipython3",
   "version": "3.10.11"
  },
  "orig_nbformat": 4
 },
 "nbformat": 4,
 "nbformat_minor": 2
}
